{
 "cells": [
  {
   "cell_type": "markdown",
   "metadata": {},
   "source": [
    "# Assign velocities at the inlet boundary taking into account the degree of saturation at the inlet"
   ]
  },
  {
   "cell_type": "code",
   "execution_count": 7,
   "metadata": {},
   "outputs": [],
   "source": [
    "import os\n",
    "import pandas as pd\n",
    "import numpy as np\n",
    "\n",
    "#Writing file\n",
    "import csv\n",
    "\n",
    "#Visualization libraries\n",
    "import matplotlib.pyplot as plt\n",
    "import seaborn as sns\n",
    "\n",
    "#Developed libraries for working with simulation results\n",
    "#import plots.saturated_steady_state as sssp\n",
    "#import analyses.transient as translys\n",
    "from data_reader import data_processing as proc\n",
    "\n",
    "#Function for scaling effective saturation\n",
    "def effsat(data):\n",
    "    slope = 1/(0.8-0.2)\n",
    "    constant = -1/3\n",
    "    sat = slope*data + constant\n",
    "    return sat"
   ]
  },
  {
   "cell_type": "markdown",
   "metadata": {},
   "source": [
    "## Parent directories"
   ]
  },
  {
   "cell_type": "code",
   "execution_count": 2,
   "metadata": {},
   "outputs": [],
   "source": [
    "source_dir = \"X:/Richards_flow_low_sat\"\n",
    "output_dir = \"X:/Richards_flow_bot_sat\""
   ]
  },
  {
   "cell_type": "markdown",
   "metadata": {},
   "source": [
    "# Scale velocity to take into account the degree of saturation\n",
    "- Import  numpy array\n",
    "- Isolate the degree of saturation at the inlet polyline\n",
    "- Assign default velocity at near saturation (~0.8 in our case)\n",
    "- Divide default velocity by saturation if the node is not nearly saturated to scale and ensure uniform volume flux at the inlet boundary"
   ]
  },
  {
   "cell_type": "code",
   "execution_count": 5,
   "metadata": {},
   "outputs": [],
   "source": [
    "trial = proc.masterscenarios()\n",
    "Regimes = [\"Slow\", \"Equal\", \"Fast\"]\n",
    "velocities = [0.0000038, 0.000038, 0.00038]"
   ]
  },
  {
   "cell_type": "code",
   "execution_count": 6,
   "metadata": {},
   "outputs": [
    {
     "data": {
      "text/plain": [
       "{'H': {'Het': 0, 'Anis': 1},\n",
       " '37': {'Het': 0.1, 'Anis': 2},\n",
       " '38': {'Het': 0.1, 'Anis': 5},\n",
       " '39': {'Het': 0.1, 'Anis': 10},\n",
       " '40': {'Het': 1, 'Anis': 2},\n",
       " '41': {'Het': 1, 'Anis': 5},\n",
       " '42': {'Het': 1, 'Anis': 10},\n",
       " '43': {'Het': 10, 'Anis': 2},\n",
       " '44': {'Het': 10, 'Anis': 5},\n",
       " '45': {'Het': 10, 'Anis': 10},\n",
       " '46': {'Het': 0.1, 'Anis': 2},\n",
       " '47': {'Het': 0.1, 'Anis': 5},\n",
       " '48': {'Het': 0.1, 'Anis': 10},\n",
       " '49': {'Het': 1, 'Anis': 2},\n",
       " '50': {'Het': 1, 'Anis': 5},\n",
       " '51': {'Het': 1, 'Anis': 10},\n",
       " '52': {'Het': 10, 'Anis': 2},\n",
       " '53': {'Het': 10, 'Anis': 5},\n",
       " '54': {'Het': 10, 'Anis': 10},\n",
       " '55': {'Het': 0.1, 'Anis': 2},\n",
       " '56': {'Het': 0.1, 'Anis': 5},\n",
       " '57': {'Het': 0.1, 'Anis': 10},\n",
       " '58': {'Het': 1, 'Anis': 2},\n",
       " '59': {'Het': 1, 'Anis': 5},\n",
       " '60': {'Het': 1, 'Anis': 10},\n",
       " '61': {'Het': 10, 'Anis': 2},\n",
       " '62': {'Het': 10, 'Anis': 5},\n",
       " '63': {'Het': 10, 'Anis': 10},\n",
       " '64': {'Het': 0.1, 'Anis': 2},\n",
       " '65': {'Het': 0.1, 'Anis': 5},\n",
       " '66': {'Het': 0.1, 'Anis': 10},\n",
       " '67': {'Het': 1, 'Anis': 2},\n",
       " '68': {'Het': 1, 'Anis': 5},\n",
       " '69': {'Het': 1, 'Anis': 10},\n",
       " '70': {'Het': 5, 'Anis': 2},\n",
       " '71': {'Het': 5, 'Anis': 5},\n",
       " '72': {'Het': 5, 'Anis': 10},\n",
       " '73': {'Het': 10, 'Anis': 2},\n",
       " '74': {'Het': 10, 'Anis': 5},\n",
       " '75': {'Het': 10, 'Anis': 10},\n",
       " '76': {'Het': 5, 'Anis': 2},\n",
       " '77': {'Het': 5, 'Anis': 5},\n",
       " '78': {'Het': 5, 'Anis': 10},\n",
       " '79': {'Het': 5, 'Anis': 2},\n",
       " '80': {'Het': 5, 'Anis': 5},\n",
       " '81': {'Het': 5, 'Anis': 10},\n",
       " '82': {'Het': 5, 'Anis': 2},\n",
       " '83': {'Het': 5, 'Anis': 5},\n",
       " '84': {'Het': 5, 'Anis': 10}}"
      ]
     },
     "execution_count": 6,
     "metadata": {},
     "output_type": "execute_result"
    }
   ],
   "source": [
    "for r,v in zip(Regimes, velocities):\n",
    "    for t in list(trial.keys()):\n",
    "        datafile = os.path.join(source_dir, r+\"AR_0\", r+\"AR_0_RF-A\"+t+\"_df.npy\")\n",
    "        array = np.load(datafile)\n",
    "        sat = effsat(array[4, -1, 0, :])\n",
    "        scaledvel = v/sat"
   ]
  }
 ],
 "metadata": {
  "kernelspec": {
   "display_name": "mlsm",
   "language": "python",
   "name": "mlsm"
  },
  "language_info": {
   "codemirror_mode": {
    "name": "ipython",
    "version": 3
   },
   "file_extension": ".py",
   "mimetype": "text/x-python",
   "name": "python",
   "nbconvert_exporter": "python",
   "pygments_lexer": "ipython3",
   "version": "3.8.5"
  }
 },
 "nbformat": 4,
 "nbformat_minor": 4
}
