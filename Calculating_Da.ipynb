{
 "cells": [
  {
   "cell_type": "markdown",
   "metadata": {},
   "source": [
    "# Calculating Damkohler number for the simulations\n",
    "\n",
    "## Calculate characteristic reaction time scales assuming first order rates\n",
    "## Import residence time data\n"
   ]
  },
  {
   "cell_type": "code",
   "execution_count": 1,
   "metadata": {},
   "outputs": [],
   "source": [
    "import os\n",
    "\n",
    "#Import third party libraries\n",
    "import pandas as pd\n",
    "import numpy as np\n",
    "\n",
    "#Import visualization libraries\n",
    "import matplotlib.pyplot as plt\n",
    "import seaborn as sns\n",
    "\n",
    "#Import data science library\n",
    "import data_reader.data_processing as proc\n",
    "import analyses.transient as sta"
   ]
  },
  {
   "cell_type": "code",
   "execution_count": 2,
   "metadata": {},
   "outputs": [],
   "source": [
    "#Load standard values required to navigate through the datasets\n",
    "data_dir = \"E:/Richards_flow/RF_big_sat_2/\"\n",
    "Regimes = [\"Slow\", \"Medium\", \"Fast\"]\n",
    "vels = [0.00038,0.0038,0.038]\n",
    "gw = 1\n",
    "\n",
    "scdict = proc.masterscenarios(\"Unsaturated\") #master dictionary of all spatially heterogeneous scenarios that were run\n",
    "ratenames = proc.masterrates(\"Unsaturated\")\n",
    "\n",
    "#Domains\n",
    "Trial = list(t for t,values in scdict.items())\n",
    "#Reactive species of concerns\n",
    "gvarnames = [\"DOC\",\"DO\",\"Ammonium\",\"Nitrate\",\"Nitrogen\",\"TOC\"]"
   ]
  },
  {
   "cell_type": "markdown",
   "metadata": {},
   "source": [
    "### Import residence times/breakthrough times from tracer dataset"
   ]
  },
  {
   "cell_type": "code",
   "execution_count": 4,
   "metadata": {},
   "outputs": [
    {
     "name": "stdout",
     "output_type": "stream",
     "text": [
      "Index(['Trial', 'Variance', 'Anisotropy', 'Regime', 'Chem', 'conc_in',\n",
      "       'conc_out', 'delconc', 'reldelconc', 'normconc', 'Mean_saturation',\n",
      "       'Time', 'fraction', 'spatial_normconc_base', 'spatial_reldelconc_base',\n",
      "       'normconc_spatial_fraction', 'reldelconc_spatial_fraction', 'Da63'],\n",
      "      dtype='object')\n",
      "['Medium' 'Fast' 'Slow']\n"
     ]
    }
   ],
   "source": [
    "chem_path_data = os.path.join(data_dir, \"conc_comparison_with_sat_26092021.csv\")#03082021.csv\")\n",
    "chemdata = pd.read_csv(chem_path_data)\n",
    "print(chemdata.columns)\n",
    "chemdata['Regime'] = chemdata['Regime'].replace({'Equal':'Medium'})\n",
    "print(chemdata.Regime.unique())"
   ]
  },
  {
   "cell_type": "code",
   "execution_count": 5,
   "metadata": {},
   "outputs": [
    {
     "name": "stdout",
     "output_type": "stream",
     "text": [
      "    Trial      Chem  normconc_spatial_fraction\n",
      "0       H       DOC                        1.0\n",
      "1       H        DO                        1.0\n",
      "2       H   Nitrate                        1.0\n",
      "3       H  Ammonium                        1.0\n",
      "4       H  Nitrogen                        1.0\n",
      "5       H       TOC                        1.0\n",
      "294     H       DOC                        1.0\n",
      "295     H        DO                        1.0\n",
      "296     H   Nitrate                        1.0\n",
      "297     H  Ammonium                        1.0\n",
      "298     H  Nitrogen                        1.0\n",
      "299     H       TOC                        1.0\n",
      "588     H       DOC                        1.0\n",
      "589     H        DO                        1.0\n",
      "590     H   Nitrate                        1.0\n",
      "591     H  Ammonium                        1.0\n",
      "592     H  Nitrogen                        1.0\n",
      "593     H       TOC                        1.0\n"
     ]
    }
   ],
   "source": [
    "chemdatah = chemdata[chemdata.Trial==\"H\"]\n",
    "print(chemdatah[[\"Trial\",\"Chem\",\"normconc_spatial_fraction\"]])"
   ]
  },
  {
   "cell_type": "markdown",
   "metadata": {},
   "source": [
    "### Calculate pseudo first order reaction rate constant\n",
    "- Load the chemican concentration profile at steady state\n",
    "- Identify distance traveled for 63% normalized removal\n",
    "- Ratio of this normalized removal and corresponding travel time is the reaction rate constant"
   ]
  },
  {
   "cell_type": "code",
   "execution_count": 6,
   "metadata": {},
   "outputs": [
    {
     "name": "stdout",
     "output_type": "stream",
     "text": [
      "                        k\n",
      "Regime Chem              \n",
      "Fast   Ammonium  0.063672\n",
      "       DO        0.869407\n",
      "       DOC       0.186480\n",
      "       Nitrate   0.005573\n",
      "       Nitrogen -0.040161\n",
      "       TOC       0.085491\n",
      "Medium Ammonium  0.014225\n",
      "       DO        0.262340\n",
      "       DOC       0.048475\n",
      "       Nitrate   0.027223\n",
      "       Nitrogen  0.017734\n",
      "       TOC       0.028070\n",
      "Slow   Ammonium  0.015641\n",
      "       DO       -0.028140\n",
      "       DOC       0.028292\n",
      "       Nitrate   0.000463\n",
      "       Nitrogen  0.000927\n",
      "       TOC       0.008666\n"
     ]
    }
   ],
   "source": [
    "chemdata[\"k\"] = -1*np.log(chemdata.normconc)/chemdata.Time\n",
    "print(chemdata[[\"Regime\", \"Chem\", \"k\"]].groupby([\"Regime\", \"Chem\"]).mean())"
   ]
  },
  {
   "cell_type": "code",
   "execution_count": 9,
   "metadata": {},
   "outputs": [
    {
     "name": "stdout",
     "output_type": "stream",
     "text": [
      "Medium DO 22\n",
      "Medium DO 23\n",
      "Medium DO 25\n",
      "Medium DO 23\n",
      "Medium DO 23\n",
      "Medium DO 23\n",
      "Medium DO 25\n",
      "Medium DO 24\n",
      "Medium DO 24\n",
      "Medium DO 24\n",
      "Medium DO 23\n",
      "Medium DO 24\n",
      "Medium DO 23\n",
      "Medium DO 30\n",
      "Medium DO 35\n",
      "Medium DO 33\n",
      "Medium DO 34\n",
      "Medium DO 41\n",
      "Medium DO 33\n",
      "Medium DO 34\n",
      "Medium DO 39\n",
      "Medium DO 37\n",
      "Medium DO 30\n",
      "Medium DO 40\n",
      "Medium DO 31\n",
      "Medium DO 46\n",
      "Medium DO 78\n",
      "Medium DO 44\n",
      "Medium DO 35\n",
      "Medium DO 69\n",
      "Medium DO 68\n",
      "Medium DO 55\n",
      "Medium DO 54\n",
      "Medium DO 40\n",
      "Medium DO 87\n",
      "Medium DO 46\n",
      "Medium DO 56\n",
      "Medium DO 40\n",
      "Medium DO 82\n",
      "Medium DO 54\n",
      "Medium DO 41\n",
      "Medium DO 54\n"
     ]
    }
   ],
   "source": [
    "thresh = 0.05\n",
    "steps = [500 * 0.005, 2 * 0.005, 2 * 0.0005]\n",
    "nc = chemdata[chemdata[\"normconc\"] < thresh].index\n",
    "for n in nc:\n",
    "    reg = chemdata.iloc[n][\"Regime\"]\n",
    "    t = chemdata.iloc[n][\"Trial\"]\n",
    "    g = chemdata.iloc[n][\"Chem\"]\n",
    "    inletconc = chemdata.iloc[n][\"conc_in\"]\n",
    "    filename = reg+\"AR_0_RF-A\"+t+\"_df.npy\"\n",
    "    concdata = np.load(os.path.join(data_dir, filename))\n",
    "    conctime, TotalFlow, Headinlettime = sta.conc_time (concdata,0,-1,0,-1, 113, [g],\"Unsaturated\")        \n",
    "    tracer_dir = os.path.join(\"E:/Richards_flow/RF_tr2\", reg+\"AR_0\")\n",
    "    tracerfile = reg+\"AR_0_RF-A\"+t+\"_df.npy\"\n",
    "    tracerdata = np.load(os.path.join(tracer_dir,tracerfile))\n",
    "    tracertime, TracerFlow, TracerHeadinlettime = sta.conc_time (tracerdata,0,-1,0,-1, 113, [\"Tracer_study\"],\"Unsaturated\")            \n",
    "    idx5 = np.where(conctime[-1, :, 0]<thresh*inletconc)[0]\n",
    "    if idx5.size != 0:\n",
    "        point = idx5[0]\n",
    "        print(reg,g,point)\n",
    "        loss = conctime[-1, point, 0]/inletconc\n",
    "        timidx = np.where(np.round(tracertime[:, point, 0], 3) > 10)\n",
    "        tim = steps[Regimes.index(reg)] * timidx[0][0]\n",
    "        k = -1*np.log(loss)/tim\n",
    "        chemdata.iloc[n, chemdata.columns.get_loc(\"k\")] = k\n",
    "selected_k = \"k\"\n",
    "chemdata[\"tau\"] = -np.log(0.37)/chemdata[selected_k].astype(float)"
   ]
  },
  {
   "cell_type": "code",
   "execution_count": 10,
   "metadata": {},
   "outputs": [],
   "source": [
    "chemdata[\"Da\"] = chemdata.Time/chemdata.tau\n",
    "chemdata.to_csv(os.path.join(data_dir, \"Da_unsaturated.csv\"))"
   ]
  }
 ],
 "metadata": {
  "kernelspec": {
   "display_name": "mlsm",
   "language": "python",
   "name": "mlsm"
  },
  "language_info": {
   "codemirror_mode": {
    "name": "ipython",
    "version": 3
   },
   "file_extension": ".py",
   "mimetype": "text/x-python",
   "name": "python",
   "nbconvert_exporter": "python",
   "pygments_lexer": "ipython3",
   "version": "3.8.10"
  }
 },
 "nbformat": 4,
 "nbformat_minor": 4
}
